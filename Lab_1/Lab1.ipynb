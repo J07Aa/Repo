{
 "cells": [
  {
   "cell_type": "markdown",
   "metadata": {
    "cell_id": "097fce6dce21405c911254a775ae3d26",
    "deepnote_cell_type": "markdown",
    "id": "J4_IcuuKZj9Y"
   },
   "source": [
    "<h1><center>Laboratorio 1: Git 👾</center></h1>\n",
    "\n",
    "<center><strong>MDS7202: Laboratorio de Programación Científica para Ciencia de Datos - Primavera 2023</strong></center>"
   ]
  },
  {
   "cell_type": "markdown",
   "metadata": {
    "cell_id": "9e8e8f2ae34e461da4f44508a96d2cf4",
    "deepnote_cell_type": "markdown",
    "id": "AEXIACc7aADv"
   },
   "source": [
    "### Cuerpo Docente:\n",
    "\n",
    "- Profesores: Ignacio Meza, Gabriel Iturra\n",
    "- Auxiliar: Sebastián Tinoco\n",
    "- Ayudante: Arturo Lazcano, Angelo Muñoz"
   ]
  },
  {
   "cell_type": "markdown",
   "metadata": {
    "cell_id": "3e5b48c23e1b48f6a64de41899166179",
    "deepnote_cell_type": "markdown",
    "id": "0HgMMyoCaG8X"
   },
   "source": [
    "### Equipo: SUPER IMPORTANTE - notebooks sin nombre no serán revisados\n",
    "\n",
    "- Jorge Allendes Álvarez\n",
    "- Valentina Castro"
   ]
  },
  {
   "cell_type": "markdown",
   "metadata": {
    "cell_id": "1db7c82b68614d19b112ba3b0d0abe4d",
    "deepnote_cell_type": "markdown",
    "id": "fz77X6glaK6y"
   },
   "source": [
    "### **Link de repositorio de GitHub:** `https://github.com/J07Aa/Repo`"
   ]
  },
  {
   "cell_type": "markdown",
   "metadata": {
    "cell_id": "bc3dac65089d4ae6a43c079547dee179",
    "deepnote_cell_type": "markdown",
    "id": "rRwqaxIZaNx3"
   },
   "source": [
    "## Reglas:\n",
    "\n",
    "- Fecha de entrega: 6 días desde la publicación, 3 días de atraso con 1 punto de descuento c/u. Pueden utilizar días bonus sin descuento.\n",
    "- **Grupos de 2 personas**\n",
    "- Asistencia **obligatoria** a instrucciones del lab (viernes 16.15). Luego, pueden quedarse trabajando en las salas o irse.\n",
    "- **Ausentes tienen nota máxima 6.0**.  \n",
    "- Cualquier duda fuera del horario de clases al foro. Mensajes al equipo docente serán respondidos por este medio.\n",
    "- <u>Prohibidas las copias</u>. Cualquier intento de copia será debidamente penalizado con el reglamento de la escuela.\n",
    "- Pueden usar cualquer material del curso que estimen conveniente.\n",
    "- Asistencia obligatoria a instrucciones del lab (viernes 16.15). Luego, pueden quedarse trabajando en las salas o irse."
   ]
  },
  {
   "cell_type": "markdown",
   "metadata": {
    "cell_id": "05e4729411a24153837fd13b7f198bd9",
    "deepnote_cell_type": "markdown",
    "id": "bmToL27JaSrf"
   },
   "source": [
    "## Objetivos del lab:\n",
    "\n",
    "\n",
    "- Conocer los elementos básicos que conformar `Git`\n",
    "- Clonar repositorios\n",
    "- Identificar ramas de un repositorio\n",
    "- Reconocer y solucionar problemas entre ramas\n",
    "- Subir cambios a un repositorio"
   ]
  },
  {
   "cell_type": "markdown",
   "metadata": {
    "cell_id": "5ebae9d601bd4d508349ab55297e9f82",
    "deepnote_cell_type": "markdown",
    "id": "bvnPCvrVbJLK"
   },
   "source": [
    "## Parte 1: Conocimiento Teórico (2.5 pts)\n",
    "\n",
    "<p align=\"center\">\n",
    "  <img src=\"https://cdn.thedesigninspiration.com/wp-content/uploads/sites/3/2019/04/macintosh-hdusersbrittanyloefflerdownloadsanig-1.gif\" width=\"350\">\n",
    "</p>"
   ]
  },
  {
   "cell_type": "markdown",
   "metadata": {
    "cell_id": "627494dba4f84520b3ee8b9cbf58ee79",
    "deepnote_cell_type": "markdown",
    "id": "JHl-24XnbNLF"
   },
   "source": [
    "Responda las siguientes preguntas (0.2 pts c/u):\n",
    "\n",
    "1. ¿Qué es `Git` y cómo se relaciona con el control de versiones?\n",
    "\n",
    "2. Nombre y explique 3 diferencias entre `Git` y `Github`.\n",
    "\n",
    "3. ¿Qué es un `hash` y cómo se representa en un `commit`? De un ejemplo.\n",
    "\n",
    "4. ¿Que elementos componen a la estructura de datos de `Git`?\n",
    "\n",
    "5. ¿Que comandos de `Git` sirven para crear un repositorio y hacer seguimiento a cambios en los archivos?"
   ]
  },
  {
   "cell_type": "markdown",
   "metadata": {
    "cell_id": "6d06c40f429044a298b27c666f51f46f",
    "deepnote_cell_type": "markdown",
    "id": "2tXCSkf0caG8"
   },
   "source": [
    "1. Git es un Sistema controlador de versiones (VCS) distribuido, en pocas palabras permite trabajar proyectos tanto de forma individual como grupal guardando distintas versiones del mismo e incluso creando copias funcionales, para desarrollar nuevas funcionalidades y posteriormente unirlas con la rama principal.\n",
    "La gracia de Git es que permita moverse entre las distintas versiones de un proyecto, de manera que puedes devolverte en caso que algo haya salido mal.\n",
    "\n",
    "2.\n",
    "  - Github es un portal que permite gestionar las aplicaciones que usan Git\n",
    "  - Git es un controlador de versiones y este está implementado dentro de github. Facilidando la conexín entre usuarios y el trabajo colaboratibo.\n",
    "  - Github se utiliza principalmente para guardar proyectos de git, como un repositorio remoto, el cual puede ser público, además al estar en github es más fácil trabajar de forma colaborativa,que tenerlo unicamente en un computador, ya que al estar en github, es ahora la nuve de github la que tiene la versión principal y es posible conectarse a esta desde cualquier computador.\n",
    "3. En programación un hash es una función que transforma un bloque arbitrario de datos e un string de longitud fija. Para el caso de `Git` el hash es el identificador que se asigna a cada `commit`, con este identificador uno puede diferenciar cada `commit` , para por ejemplo regresar a un `commit` anterior o revisar que se hizo en este. Por ejemplo el primer commit de este repositorio se puede obtener utilizando <code>git log</code> ,con lo que obtenemos: que \"b5db3dad394b2177be50892d9cf796f30307cbbb\" es el hash del primer `commit`\n",
    "4. Existen 4 etapas para los archivos de un, esta `untracked` que son archivos nuevos para el repositorio por lo tanato hay que agregarlos de modo que esten listos para ser consolidados. Los `unmodified` son archivos que ya estan en el repositorio y no ahn sido modificados, se podría decir que estan actualizados o en su última versión del repositorio. Los archivos en `modified` son archivos que ya se encuetran en el repositorio, mas han sido modificado por lo tanto hay que agregar estos cambios nuevamente para que los archivos estén listoa para consolidarse. Finalmente los archivos `staged` son los archivos que ya están listos para ser consolidados en el repositorio solo falta hacer un `commit` para que pasen a ser parte de la última versión del repositorio y por ende pasarían a estar en su versión `unmodified` (pues estarián actualizados).\n",
    "5. Para crear un repositorio se utilizan el comando :<code>\n",
    "    git init nombre-del-repo\n",
    "    </code>\n",
    "    Luego para hacer un seguimiento de los ultimos cambios se puede usar <code>git log</code> quqe entrega una lista con los`commit` realizados en el repositorio, luego uno puede visualizar individualmente cada `commit`. Tambien con <code>git status</code> sabremos los cambios que han ocurrido en el repositorio desde el último commit."
   ]
  },
  {
   "cell_type": "markdown",
   "metadata": {
    "cell_id": "ec9855406e324cc98b59e33500faea84",
    "deepnote_cell_type": "markdown",
    "id": "MACccbP4gU43"
   },
   "source": [
    "Responda si las siguientes afirmaciones son Verdaderas (V) o Falsas (F). Justifique en **cualquiera** de los casos (0.2 pts c/u):"
   ]
  },
  {
   "cell_type": "markdown",
   "metadata": {
    "cell_id": "7e6a5a6e15b045cc9d104cf017825f1a",
    "deepnote_cell_type": "markdown",
    "id": "DFnmCToOgeM3"
   },
   "source": [
    "6. `Git` siempre resuelve automáticamente los problemas de lineas al hacer merge entre diferentes ramas.`(F)` Hay casos en los que se edita una misma parte del código en 2 ramas distintas por lo tanto al intentar fusionarlas habrá un error, git nos avisará del error y nos indicará las c¿partes que generan el ocnflicto más no lo puede resolver.\n",
    "7. Ejecutar `git pull` sobre un repositorio es equivalente a ejecutar `git clone`. `(F)` Con `git clone` se crea un repositorio remoto y con `git pull` se actualiza un repositorio local con respecto a un repositorio remoto. `git clone` se utiliza solo una vez por repositorio ya que no puedes clonarlo en el mismo lugar más de una vez, una vez que ya tienes el repositorio solo debes actualizarlo con `git pull`.\n",
    "8. `git status` genera los mismos resultados que `git log`. `(F)``git status` indica como está la versión local en la que estamos trabajando (si es que han habido cambio, se ahn agregado o eliminado elementos o si estamos en la última versión). Por su parte `git log` entrega el histiorial de cambios en el repositorio, para esto se apoya de los commits.\n",
    "9. En `Git` es posible deshacer cambios y volver a versiones anteriores del código. `(V)` uno puede volver a versions anteriores por medio del hash de los commit con el comando `git checkout commit-hash`, además no solo puedes volver a una versión antigua del repositorio completo, tambien puedes volver a una versión antigua de solo un archivo o una carpeta en especifico.\n",
    "10. El comando `git commit` se utiliza para enviar cambios al repositorio remoto. `(F)` Se utiliza para dejar los cambios listos para enviarse al repositorio remoto, lo que hace es actualizar el estado de los archivos en el repositorio local luego es esta versión actalizada del repositorio la que actualiza el repositorio remoto utilizando `git push`."
   ]
  },
  {
   "cell_type": "markdown",
   "metadata": {
    "cell_id": "54317cad024744ebaf4938df55ba3b95",
    "deepnote_cell_type": "markdown"
   },
   "source": [
    "Por último, investigue y comente para qué sirven los siguientes comandos:\n",
    "\n",
    "11. `git stash` (0.25 puntos)\n",
    "    Git `stash` es un comando para almacenar temporalmente cambios (o guardar `stah`) en los códigos de trabajo, con el fin de cambiar de forma rápida de tarea, la diferencia de trabajar con `branch` es que `git stash` se utiliza principalmente cuando estás en medio de un desarrollo de código y por alguna razón cambias de tarea sin terminar necesariamente lo que estabas haciendo, por ende dejas almacenado los cambios en el stash (puedes dejar un mensaje en el `stash`, tal como en un commit) y trabajas con el estado repositorio tal cual estaba antes de realizar los cambios en el stash, cosa que si tenías una función aún no terminada, esta no genere inconvenientes al momento de desarrollar otra nueva. Una vez que terminas esta nueva tarea, puedes traer de vuelta los cambios del `stash` con `git stash pop`, eliminando el stash o con `git stash apply` que agrega los cambios del `stash` y mantiene el stash para que sea aplicable en más ramas.\n",
    "\n",
    "12. `git reset`. ¿Cuál es la diferencia de este comando con `git revert`?. (0.25 puntos\n",
    "\n",
    "`git reset` es un comando que funciona como un ctrl+z al repositorio, basicamente lo que hace es llevar el repositorio a un estado anterior, actualizando el estado de la rama main al estado de un commit seleccionado, el problema de `git reset`, es que vuelve a un commit anterior, dejando los commits posteriores a este `huerfanos`, por lo que su información podría perderde. Para volver de forma más segura a un estado anterior del repositorio se recomienda usar `git revert`, es un comando que funciona como un ctrl+z al repositorio, basicamente lo que hace es llevar el repositorio al estado del commit anterior, pero generando un nuevo commit, en pocas palabras crea un nuevo commit, identico al commit anterior al actual, es una forma de volver atrás en los cmabios realizados, dejando guardado en los commit un cambio que se hizo, mas no funcionó o generaba algún bug. Con esto se recupera un estado estable del repositorio y se genera la posibilidad de volver al commit que generó problemas más adelante. \n",
    "Por ende la diferencia principal es que `git revert` vuelve a un estado anterior de forme segura, manteniendo el estado acual,generando un nuevo commit que será equivalente al commit anterior, con esto se mantendrá toda la información. Por su parte `git reset`, lleva el repositorio a un estado anterior, dejando huerfanos los commits que se habían hecho posterior al elegido y a pesar que se podría volver, a esos estados futuros es más engorroso y luego de un tiempo estos se podrían perder."
   ]
  },
  {
   "cell_type": "markdown",
   "metadata": {
    "cell_id": "3e4d8b9974e4426ca38fd20f4b835a55",
    "deepnote_cell_type": "markdown",
    "id": "i7Em9JkbbRLo"
   },
   "source": [
    "## Parte 2: Creando una presentación personal (1.5 pts)\n",
    "\n",
    "<p align=\"center\">\n",
    "  <img src=\"https://media.tenor.com/arqlNu8gyJYAAAAC/cat-cat-jumping.gif\" width=\"150\">\n",
    "</p>\n",
    "\n"
   ]
  },
  {
   "cell_type": "markdown",
   "metadata": {
    "cell_id": "988648005dba4b9782c6625dfe6ae4ef",
    "deepnote_cell_type": "markdown",
    "id": "XWIHfyrlbYOJ"
   },
   "source": [
    "Para empezar a \"*soltar las manos*\" con `Git`, se les encomienda crear un repositorio con una presentación personal. El repositorio debe contener un breve resumen de quienes son ustedes, sus gustos, experiencias, y cualquier otro detalle interesante que ustedes consideren relevante. \n",
    "\n",
    "Para realizar esto, deben seguir los siguientes pasos:\n",
    "\n",
    "1. Contar con una cuenta de github (1 por persona)\n",
    "2. Crear un repositorio con su nombre de usuario\n",
    "3. Vincular el repositorio a su ambiente local ¿Qué comando(s) me permiten hacer esto?\n",
    "4. Crear un archivo `readme.md` con la información que ustedes deseen compartir.\n",
    "5. Realizar `push` con los cambios generados\n",
    "\n",
    "A modo de ejemplo, pueden guiarse por esta *suculenta* [presentación](https://github.com/Mezosky)\n",
    "\n",
    "**Nota: Deben trabajar todos estos puntos desde su ambiente local**\n",
    "\n",
    "*Hint: Una buena opción es usar templates de presentación personal que encuentren en Google, como los que ofrece este [sitio](https://durgeshsamariya.github.io/awesome-github-profile-readme-templates/#/)*.\n",
    "\n",
    "**Entregable:**\n",
    "\n",
    "Enlace al repositorio con la presentación personal. \n",
    "\n",
    "IMPORTANTE: DEBEN ADJUNTAR UN ENLACE POR PERSONA"
   ]
  },
  {
   "cell_type": "markdown",
   "metadata": {
    "cell_id": "081b38d55dc54282bc8e3cd300ce9d3e",
    "deepnote_cell_type": "markdown",
    "id": "IIkWyl9tf0Sg"
   },
   "source": [
    "<code>Link Presentacion 1: https://github.com/J07Aa</code>\n",
    "\n",
    "<code>Link Presentacion 2: https://github.com/vaydef/vaydef.git</code>"
   ]
  },
  {
   "cell_type": "markdown",
   "metadata": {
    "cell_id": "0481a05d2d1a46928f6cfb7762720980",
    "deepnote_cell_type": "markdown",
    "id": "CAzXOwvDY-IG"
   },
   "source": [
    "## Parte 3: Trabajando sobre un repositorio externo (2 pts)\n",
    "\n",
    "<p align=\"center\">\n",
    "  <img src=\"https://media.tenor.com/YXL-0SK15j4AAAAC/dance-animals.gif\" width=\"300\">\n",
    "</p>\n",
    "\n",
    "Tras muchos dolores de cabeza, un grupo de entusiastas académicos decidieron aprender sobre `Git` y así trabajar colaborativamente de forma más ordenada y eficiente. Después de una infinidad de intentos y aprender de sus errores \"*a la mala*\", los académicos lograron levantar un [repositorio](https://github.com/MDS7202/lab1) en `Github`. Usando el repositorio de los académicos, responda las siguientes preguntas (**incluya también los comandos en `Git` ocupados**):\n"
   ]
  },
  {
   "cell_type": "markdown",
   "metadata": {
    "cell_id": "bcef73b2e8604579bde90ed6622abfe9",
    "deepnote_cell_type": "markdown",
    "id": "BFRnAw0rfguR"
   },
   "source": [
    "1. Clone el repositorio a su ambiente local. (0.25 pts)"
   ]
  },
  {
   "cell_type": "markdown",
   "metadata": {
    "cell_id": "5d126ac3819c44479af94d3895bc4c97",
    "deepnote_cell_type": "markdown",
    "id": "KXro32yBeilN"
   },
   "source": [
    "<code>git clone https://github.com/MDS7202/lab1.git</code>\n"
   ]
  },
  {
   "cell_type": "markdown",
   "metadata": {
    "cell_id": "e215e4e25b2440f09ac273ba63603986",
    "deepnote_cell_type": "markdown"
   },
   "source": [
    "2. Descomprima los archivos subidos con la tarea en U-cursos en la carpeta recién clonada de github. Una vez realizado esto, cree un archivo `.gitignore` con el cual omita la carpeta `videos` y los archivos con la extensión `.txt` exceptuando el archivo `171.txt` de la carpeta `texts`. (0.25 pts)"
   ]
  },
  {
   "cell_type": "markdown",
   "metadata": {
    "cell_id": "186233b44d004e3bbd86262d010188b5",
    "deepnote_cell_type": "markdown"
   },
   "source": [
    "<code>videos\n",
    "*.txt\n",
    "!171.txt</code>"
   ]
  },
  {
   "cell_type": "markdown",
   "metadata": {
    "cell_id": "1de150590a41484a988b8e46616a2324",
    "deepnote_cell_type": "markdown",
    "id": "q2qmiDyjt2M_"
   },
   "source": [
    "3. Inspeccione brevemente el repositorio: ¿Cual es el objetivo del proyecto? Explique brevemente la estructura del proyecto, asi como también cada elemento que lo conforma. (0.25 pts)"
   ]
  },
  {
   "cell_type": "markdown",
   "metadata": {
    "cell_id": "082ca01c865e48e28352b280400c47b6",
    "deepnote_cell_type": "markdown",
    "id": "aBHpR8VTftkT"
   },
   "source": [
    "Tal como se menciona en el archivo Readme.md el repositorio contiene un proyecto que \"emula sonidos de animales\".\n",
    "\n",
    "En el archivo \"animales.py\" hay una función que recibe el nombre del animal y printea el sonido para el caso de perro y gato. En caso de que el animal sea \"fox\" se printea el link a un video y en caso se ser cualquier otro nos informa que el animal no es conocido.\n",
    "\n",
    "El archivo \"main.py\" se encarga de preguntar al usuario el nombre de u animal y ejecutar la función antes mencionada."
   ]
  },
  {
   "cell_type": "markdown",
   "metadata": {
    "cell_id": "3aab4a3ee0c246e1be955680ad653fb8",
    "deepnote_cell_type": "markdown",
    "id": "XFwqcpLZfylf"
   },
   "source": [
    "4. Identifique los últimos cambios al repositorio, reconociendo las principales ramas de trabajo. ¿Son informativos los `commit` realizados? (0.25 pts)\n",
    "*Hint: Se recomienda usar los argumentos `all`, `graph` y `decorate`*"
   ]
  },
  {
   "cell_type": "markdown",
   "metadata": {
    "cell_id": "0fab79a360ac4c6a9ca0ab884f85c7e1",
    "deepnote_cell_type": "markdown",
    "id": "cmWfXBkOhog0"
   },
   "source": [
    "<code>git log --all --decorate --oneline --graph</code>\n",
    "Los commit realizados no son tan detallados, dan una idea de los que está pasando, más en repostorios más grandes sería necesario ser más especificos en los commits."
   ]
  },
  {
   "cell_type": "markdown",
   "metadata": {
    "cell_id": "d07b24d21f2343fb9a7e6a5db74e98c3",
    "deepnote_cell_type": "markdown",
    "id": "Vqbj9HdXrUnN"
   },
   "source": [
    "5. Uno de los académicos se da cuenta que la rama principal de trabajo no se ejecuta correctamente para todos los argumentos. Señale y explique el error en el código e identifique a la persona que lo cometió usando `git blame` (0.25 pts)\n",
    "\n",
    "*Hint: Le puede ser útil esta [documentación](https://www.atlassian.com/es/git/tutorials/inspecting-a-repository/git-blame).*"
   ]
  },
  {
   "cell_type": "markdown",
   "metadata": {
    "cell_id": "bc5b0f9c639643108f8e66687b721732",
    "deepnote_cell_type": "markdown",
    "id": "5ajhV2Iar3tV"
   },
   "source": [
    "El error fue cometido por \"mezosky\" (para esto utilizamos el comando git blame animales.py).\n",
    "\n",
    "El error viene de que se utilizan solo \"if's\" y a menos de que entre en el último \"if\" siempre se entrará al \"else\", levantando el value error."
   ]
  },
  {
   "cell_type": "markdown",
   "metadata": {
    "cell_id": "f3f4e78e6d9145ebbb120c0a2e4aade6",
    "deepnote_cell_type": "markdown",
    "id": "m8J3uE7MhqTA"
   },
   "source": [
    "6. Busque los siguientes `commit`:\n",
    "\n",
    "- `c8b1a62d7299552b0654f930d695b33109214111`\n",
    "- `362fe21ee44f53ee944cee4ba484600308f83d78`\n",
    "- `25543a3baf77292baf849726784ca005473acab1`\n",
    "\n",
    "¿Qué diferencias existen entre cada uno? (0.25 pts)"
   ]
  },
  {
   "cell_type": "markdown",
   "metadata": {
    "cell_id": "696ed361ac0c41c8a214cfad9dcb39e6",
    "deepnote_cell_type": "markdown",
    "id": "sNHnZsgIitGh"
   },
   "source": [
    "<code>git log c8b1a62d7299552b0654f930d695b33109214111\n",
    "commit c8b1a62d7299552b0654f930d695b33109214111\n",
    "Author: seba <stinoco@fen.uchile.cl>\n",
    "Date:   Wed Mar 22 17:28:19 2023 -0300\n",
    "    se agrega funcion\n",
    "</code>\n",
    "    \n",
    "<code>git log 362fe21ee44f53ee944cee4ba484600308f83d78\n",
    "commit 362fe21ee44f53ee944cee4ba484600308f83d78 (HEAD -> main, origin/new_features, origin/main, origin/HEAD)\n",
    "Author: mezosky <ignacio.meza@ug.uchile.cl>\n",
    "Date:   Thu Mar 23 21:47:34 2023 -0300\n",
    "    Se separa el proyecto en modulos\n",
    "</code>\n",
    "    \n",
    "<code>git log 25543a3baf77292baf849726784ca005473acab1\n",
    "commit 25543a3baf77292baf849726784ca005473acab1 (origin/fix-ifs)\n",
    "Author: Pablo Badilla <pbadilla.torrealba@gmail.com>\n",
    "Date:   Thu Mar 23 22:50:49 2023 -0300\n",
    "    fix ifs\n",
    "</code>\n",
    "    \n",
    "La diferencia es la información que se tiene en cada commit, además entre el segundo y tercer commit se está trabajando en branch diferentes y esto lo indica la primera línea de la resupuesta."
   ]
  },
  {
   "cell_type": "markdown",
   "metadata": {
    "cell_id": "b4e18f8ce94c430f85915c4e2732d05b",
    "deepnote_cell_type": "markdown",
    "id": "WQIPbfNCgpxC"
   },
   "source": [
    "7. Realice una `merge` de la rama `fix-ifs` con la rama `main` y describa lo que ocurre. ¿Qué parte del código podría estar ocasionando esto? (0.25 pts)"
   ]
  },
  {
   "cell_type": "markdown",
   "metadata": {
    "cell_id": "36da6a0d4f4a427bbccac09e2ae965fd",
    "deepnote_cell_type": "markdown",
    "id": "ypH_6lL5ioZz"
   },
   "source": [
    "<code>git merge origin/fix-ifs main\n",
    "Auto-merging main.py\n",
    "CONFLICT (content): Merge conflict in main.py\n",
    "Automatic merge failed; fix conflicts and then commit the result.</code>\n",
    "\n",
    "Existe un conflicto de combinación lo cual podemos visualizar al abrir el archivo que está causando conflicto (esto lo encontramos utilizando git status)\n",
    "<code> <<<<<<< HEAD \n",
    "from animales import animales\n",
    "=======\n",
    "def animales(input):\n",
    "    '''\n",
    "    Como hace el animalito?\n",
    "    '''\n",
    "    if input.lower() == 'gato':\n",
    "        print('miau')\n",
    "    elif input.lower() == 'perro':\n",
    "        print('guau')\n",
    "    elif input.lower() == 'fox':\n",
    "        print('https://www.youtube.com/watch?v=jofNR_WkoCE')\n",
    "    else:\n",
    "        raise ValueError('animal no reconocido :(')>>>>>>> origin/fix-ifs \n",
    "    </code>\n",
    "\n",
    "Donde lo que se encuentra sobre ====== corresponde a una rama, y lo que está bajo ===== corresponde a la otra.\n",
    "En este caso había un problema ya que se modificó el archivo \"main.py\", por un lado importando la función animales y por otro escribiendo la función dentro del mismo main."
   ]
  },
  {
   "cell_type": "markdown",
   "metadata": {
    "cell_id": "09787ab449c543479e5cc54c2a3b6c19",
    "deepnote_cell_type": "markdown",
    "id": "GYfODCjeivkU"
   },
   "source": [
    "8. Cree una rama nueva y proponga una solución al problema anterior, adjuntando el código corregido y señalando las líneas modificadas. (0.25 pts)"
   ]
  },
  {
   "cell_type": "markdown",
   "metadata": {
    "cell_id": "6d963fba3f2d4c17a4b281c7d3f4fb8b",
    "deepnote_cell_type": "markdown",
    "id": "8heBxDU9iziT"
   },
   "source": [
    "Para solucionar el problema anterior dejamos el \"main.py\" como:\n",
    "<code>\n",
    "from animales import animales\n",
    "if __name__ == '__main__':\n",
    "    print(\"Ingrese el animalito para saber que dice:\")\n",
    "    animal = input()\n",
    "    animales(animal)</code>\n",
    "    \n",
    "Tambien cambiamos el archivo \"animales.py\", resultando:\n",
    "<code>\n",
    "def animales(input):\n",
    "    '''\n",
    "    Como hace el animalito?\n",
    "    '''\n",
    "    if input.lower() == 'gato':\n",
    "        print('miau')\n",
    "    elif input.lower() == 'perro':\n",
    "        print('guau')\n",
    "    elif input.lower() == 'fox':\n",
    "        print('https://www.youtube.com/watch?v=jofNR_WkoCE')\n",
    "    else:\n",
    "        raise ValueError('animal no reconocido :(')\n",
    "</code>\n",
    "\n",
    "Con lo anterior resolvemos el problema, sin mezclar códigos, ya que se cambian archivos diferentes.\n",
    "\n",
    "Finalmente falta mencionar que para crear la rama nueva se utiliza el comando\n",
    "<code>git branch rama-nueva</code>, donde rama. nueva es el nombre de la nueva rama."
   ]
  },
  {
   "cell_type": "markdown",
   "metadata": {
    "cell_id": "8a47d4bf8b3045d68e4f29bb449c87f1",
    "deepnote_cell_type": "markdown",
    "id": "Av8ebB9jkALO"
   },
   "source": [
    "## Fin"
   ]
  },
  {
   "cell_type": "markdown",
   "metadata": {
    "cell_id": "cec4b53942ed489f8f8b63d0e9d4f3e5",
    "deepnote_cell_type": "markdown",
    "id": "aQqZT9fSkBK8"
   },
   "source": [
    "Eso ha sido todo por ahora!! Esperamos que este laboratorio les haya gustado y servido para trabajar con `Git`. Recuerden los dias de plazo que tienen disponibles y que ante cualquier duda no duden en contactar al equipo docente. \n",
    "\n",
    "Nos vemos!! \n",
    "\n",
    "<p align=\"center\">\n",
    "  <img src=\"https://media.tenor.com/OYLdav9k9LkAAAAd/kitty-cat.gif\" width=\"350\">\n",
    "</p>\n"
   ]
  },
  {
   "cell_type": "markdown",
   "metadata": {
    "created_in_deepnote_cell": true,
    "deepnote_cell_type": "markdown"
   },
   "source": [
    "<a style='text-decoration:none;line-height:16px;display:flex;color:#5B5B62;padding:10px;justify-content:end;' href='https://deepnote.com?utm_source=created-in-deepnote-cell&projectId=87110296-876e-426f-b91d-aaf681223468' target=\"_blank\">\n",
    "<img alt='Created in deepnote.com' style='display:inline;max-height:16px;margin:0px;margin-right:7.5px;' src='data:image/svg+xml;base64,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' > </img>\n",
    "Created in <span style='font-weight:600;margin-left:4px;'>Deepnote</span></a>"
   ]
  }
 ],
 "metadata": {
  "colab": {
   "authorship_tag": "ABX9TyPLnABjPBy181zQ0xKEKCGu",
   "provenance": []
  },
  "deepnote": {},
  "deepnote_execution_queue": [],
  "deepnote_notebook_id": "62cd20d52b9a4810ada15644630456dc",
  "kernelspec": {
   "display_name": "Python 3",
   "language": "python",
   "name": "python3"
  },
  "language_info": {
   "codemirror_mode": {
    "name": "ipython",
    "version": 3
   },
   "file_extension": ".py",
   "mimetype": "text/x-python",
   "name": "python",
   "nbconvert_exporter": "python",
   "pygments_lexer": "ipython3",
   "version": "3.9.18"
  }
 },
 "nbformat": 4,
 "nbformat_minor": 4
}
